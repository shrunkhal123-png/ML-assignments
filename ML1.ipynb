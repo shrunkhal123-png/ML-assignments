{
  "nbformat": 4,
  "nbformat_minor": 0,
  "metadata": {
    "colab": {
      "provenance": [],
      "authorship_tag": "ABX9TyOquPdi40ikbKP57RT11x7P",
      "include_colab_link": true
    },
    "kernelspec": {
      "name": "python3",
      "display_name": "Python 3"
    },
    "language_info": {
      "name": "python"
    }
  },
  "cells": [
    {
      "cell_type": "markdown",
      "metadata": {
        "id": "view-in-github",
        "colab_type": "text"
      },
      "source": [
        "<a href=\"https://colab.research.google.com/github/Samruddhi20-hue/ML-1/blob/main/ML1.ipynb\" target=\"_parent\"><img src=\"https://colab.research.google.com/assets/colab-badge.svg\" alt=\"Open In Colab\"/></a>"
      ]
    },
    {
      "cell_type": "code",
      "source": [
        "import pandas as pd\n"
      ],
      "metadata": {
        "id": "SDGDsfhn8iBY"
      },
      "execution_count": 11,
      "outputs": []
    },
    {
      "cell_type": "code",
      "source": [
        "file_path = 'admission (1).csv'\n",
        "df = pd.read_csv(file_path)"
      ],
      "metadata": {
        "id": "pPO-1bad-TCk"
      },
      "execution_count": 13,
      "outputs": []
    },
    {
      "cell_type": "code",
      "source": [
        "print(\"Shape of Data:\", df.shape)"
      ],
      "metadata": {
        "colab": {
          "base_uri": "https://localhost:8080/"
        },
        "id": "lKQBXxCr-bzi",
        "outputId": "b3bc82bf-c097-4011-8e64-da2160a0b344"
      },
      "execution_count": 14,
      "outputs": [
        {
          "output_type": "stream",
          "name": "stdout",
          "text": [
            "Shape of Data: (500, 9)\n"
          ]
        }
      ]
    },
    {
      "cell_type": "code",
      "source": [
        "print(\"\\nMissing Values:\")\n",
        "print(df.isnull().sum())"
      ],
      "metadata": {
        "colab": {
          "base_uri": "https://localhost:8080/"
        },
        "id": "pWGHGhZM-yWU",
        "outputId": "79614f6b-2d27-42da-81f5-1b6b819435ad"
      },
      "execution_count": 15,
      "outputs": [
        {
          "output_type": "stream",
          "name": "stdout",
          "text": [
            "\n",
            "Missing Values:\n",
            "Serial No.           0\n",
            "GRE Score            0\n",
            "TOEFL Score          0\n",
            "University Rating    0\n",
            "SOP                  0\n",
            "LOR                  0\n",
            "CGPA                 0\n",
            "Research             0\n",
            "Chance of Admit      0\n",
            "dtype: int64\n"
          ]
        }
      ]
    },
    {
      "cell_type": "code",
      "source": [
        "print(\"\\nData Types:\")\n",
        "print(df.dtypes)"
      ],
      "metadata": {
        "colab": {
          "base_uri": "https://localhost:8080/"
        },
        "id": "-N5ZpLeL-1q6",
        "outputId": "3ebaad87-22ac-4af3-b0a7-51d153bc8112"
      },
      "execution_count": 16,
      "outputs": [
        {
          "output_type": "stream",
          "name": "stdout",
          "text": [
            "\n",
            "Data Types:\n",
            "Serial No.             int64\n",
            "GRE Score              int64\n",
            "TOEFL Score            int64\n",
            "University Rating      int64\n",
            "SOP                  float64\n",
            "LOR                  float64\n",
            "CGPA                 float64\n",
            "Research               int64\n",
            "Chance of Admit      float64\n",
            "dtype: object\n"
          ]
        }
      ]
    },
    {
      "cell_type": "code",
      "source": [
        "df_zero_count = (df == 0).sum()\n",
        "print(\"\\nZero Values Count:\")\n",
        "print(df_zero_count)"
      ],
      "metadata": {
        "colab": {
          "base_uri": "https://localhost:8080/"
        },
        "id": "hGsZJj_K_DvM",
        "outputId": "92f122f6-ab73-4f13-9a1e-4b0b1c64b6e9"
      },
      "execution_count": 17,
      "outputs": [
        {
          "output_type": "stream",
          "name": "stdout",
          "text": [
            "\n",
            "Zero Values Count:\n",
            "Serial No.             0\n",
            "GRE Score              0\n",
            "TOEFL Score            0\n",
            "University Rating      0\n",
            "SOP                    0\n",
            "LOR                    0\n",
            "CGPA                   0\n",
            "Research             220\n",
            "Chance of Admit        0\n",
            "dtype: int64\n"
          ]
        }
      ]
    },
    {
      "cell_type": "code",
      "source": [
        "print(\"\\nFirst 5 rows:\")\n",
        "print(df.head())\n",
        "print(\"\\nSorted Data by First Column:\")\n",
        "print(df.sort_values(by=df.columns[0], ascending=True).head())\n"
      ],
      "metadata": {
        "colab": {
          "base_uri": "https://localhost:8080/"
        },
        "id": "6n6kB-H5_ILt",
        "outputId": "da066636-ef61-41b9-8032-80483e68c224"
      },
      "execution_count": 18,
      "outputs": [
        {
          "output_type": "stream",
          "name": "stdout",
          "text": [
            "\n",
            "First 5 rows:\n",
            "   Serial No.  GRE Score  TOEFL Score  University Rating  SOP  LOR   CGPA  \\\n",
            "0           1        337          118                  4  4.5   4.5  9.65   \n",
            "1           2        324          107                  4  4.0   4.5  8.87   \n",
            "2           3        316          104                  3  3.0   3.5  8.00   \n",
            "3           4        322          110                  3  3.5   2.5  8.67   \n",
            "4           5        314          103                  2  2.0   3.0  8.21   \n",
            "\n",
            "   Research  Chance of Admit   \n",
            "0         1              0.92  \n",
            "1         1              0.76  \n",
            "2         1              0.72  \n",
            "3         1              0.80  \n",
            "4         0              0.65  \n",
            "\n",
            "Sorted Data by First Column:\n",
            "   Serial No.  GRE Score  TOEFL Score  University Rating  SOP  LOR   CGPA  \\\n",
            "0           1        337          118                  4  4.5   4.5  9.65   \n",
            "1           2        324          107                  4  4.0   4.5  8.87   \n",
            "2           3        316          104                  3  3.0   3.5  8.00   \n",
            "3           4        322          110                  3  3.5   2.5  8.67   \n",
            "4           5        314          103                  2  2.0   3.0  8.21   \n",
            "\n",
            "   Research  Chance of Admit   \n",
            "0         1              0.92  \n",
            "1         1              0.76  \n",
            "2         1              0.72  \n",
            "3         1              0.80  \n",
            "4         0              0.65  \n"
          ]
        }
      ]
    },
    {
      "cell_type": "code",
      "source": [
        "print(\"\\nSummary Statistics:\")\n",
        "print(df.describe())"
      ],
      "metadata": {
        "colab": {
          "base_uri": "https://localhost:8080/"
        },
        "id": "0VTReN_I_T5R",
        "outputId": "cd5f4ff3-ff5d-4b25-bffc-68b8dac61630"
      },
      "execution_count": 19,
      "outputs": [
        {
          "output_type": "stream",
          "name": "stdout",
          "text": [
            "\n",
            "Summary Statistics:\n",
            "       Serial No.   GRE Score  TOEFL Score  University Rating         SOP  \\\n",
            "count  500.000000  500.000000   500.000000         500.000000  500.000000   \n",
            "mean   250.500000  316.472000   107.192000           3.114000    3.374000   \n",
            "std    144.481833   11.295148     6.081868           1.143512    0.991004   \n",
            "min      1.000000  290.000000    92.000000           1.000000    1.000000   \n",
            "25%    125.750000  308.000000   103.000000           2.000000    2.500000   \n",
            "50%    250.500000  317.000000   107.000000           3.000000    3.500000   \n",
            "75%    375.250000  325.000000   112.000000           4.000000    4.000000   \n",
            "max    500.000000  340.000000   120.000000           5.000000    5.000000   \n",
            "\n",
            "            LOR         CGPA    Research  Chance of Admit   \n",
            "count  500.00000  500.000000  500.000000         500.00000  \n",
            "mean     3.48400    8.576440    0.560000           0.72174  \n",
            "std      0.92545    0.604813    0.496884           0.14114  \n",
            "min      1.00000    6.800000    0.000000           0.34000  \n",
            "25%      3.00000    8.127500    0.000000           0.63000  \n",
            "50%      3.50000    8.560000    1.000000           0.72000  \n",
            "75%      4.00000    9.040000    1.000000           0.82000  \n",
            "max      5.00000    9.920000    1.000000           0.97000  \n"
          ]
        }
      ]
    },
    {
      "cell_type": "code",
      "source": [
        "print(\"\\nUnique Values Count:\")\n",
        "print(df.nunique())"
      ],
      "metadata": {
        "colab": {
          "base_uri": "https://localhost:8080/"
        },
        "id": "4BS7Izin_ZPM",
        "outputId": "9ff95aca-8268-49cf-b8ed-c2ea88c12caf"
      },
      "execution_count": 20,
      "outputs": [
        {
          "output_type": "stream",
          "name": "stdout",
          "text": [
            "\n",
            "Unique Values Count:\n",
            "Serial No.           500\n",
            "GRE Score             49\n",
            "TOEFL Score           29\n",
            "University Rating      5\n",
            "SOP                    9\n",
            "LOR                    9\n",
            "CGPA                 184\n",
            "Research               2\n",
            "Chance of Admit       61\n",
            "dtype: int64\n"
          ]
        }
      ]
    },
    {
      "cell_type": "code",
      "source": [
        "if df.select_dtypes(include=['int64', 'float64']).shape[1] > 0:\n",
        "    df[df.select_dtypes(include=['int64', 'float64']).columns] = df.select_dtypes(include=['int64', 'float64']).astype('int32')\n",
        "    print(\"\\nConverted Numeric Data Types to int32\")"
      ],
      "metadata": {
        "colab": {
          "base_uri": "https://localhost:8080/"
        },
        "id": "jiari58i_dF6",
        "outputId": "c0e1f738-8f1a-4927-edb9-dd04d392f4bd"
      },
      "execution_count": 21,
      "outputs": [
        {
          "output_type": "stream",
          "name": "stdout",
          "text": [
            "\n",
            "Converted Numeric Data Types to int32\n"
          ]
        }
      ]
    },
    {
      "cell_type": "code",
      "source": [
        "print(\"\\nFinal Data Types:\")\n",
        "print(df.dtypes)"
      ],
      "metadata": {
        "colab": {
          "base_uri": "https://localhost:8080/"
        },
        "id": "5vETTcqr_i0g",
        "outputId": "6b9f1712-45c7-4cd1-a007-a0131afca281"
      },
      "execution_count": 22,
      "outputs": [
        {
          "output_type": "stream",
          "name": "stdout",
          "text": [
            "\n",
            "Final Data Types:\n",
            "Serial No.           int32\n",
            "GRE Score            int32\n",
            "TOEFL Score          int32\n",
            "University Rating    int32\n",
            "SOP                  int32\n",
            "LOR                  int32\n",
            "CGPA                 int32\n",
            "Research             int32\n",
            "Chance of Admit      int32\n",
            "dtype: object\n"
          ]
        }
      ]
    },
    {
      "cell_type": "code",
      "source": [],
      "metadata": {
        "id": "E9cHSsDM_pPN"
      },
      "execution_count": null,
      "outputs": []
    }
  ]
}